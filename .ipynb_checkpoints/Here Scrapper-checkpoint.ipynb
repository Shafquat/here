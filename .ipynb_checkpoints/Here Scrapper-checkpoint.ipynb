{
 "cells": [
  {
   "cell_type": "code",
   "execution_count": 1,
   "metadata": {
    "collapsed": true
   },
   "outputs": [],
   "source": [
    "import requests\n",
    "import json"
   ]
  },
  {
   "cell_type": "code",
   "execution_count": 11,
   "metadata": {
    "collapsed": true
   },
   "outputs": [],
   "source": [
    "time_limit = '3600'\n",
    "departure_time = '2017-09-19T12:00:00-04:00'\n",
    "city_names = ['Vancouver','Calgary','Edmonton','Winnipeg','Toronto','Mississauga','Ottawa','Montreal','Quebec City','Halifax']\n",
    "city_centers = ['49.284454,-123.121127','51.045737,-114.070382','53.540940,-113.493783','49.895491,-97.138462','43.648649,-79.380261','43.593663,-79.635041','45.419617,-75.702900','45.501880,-73.567427','46.770575,-71.281839','44.649200,-63.574995']\n",
    "pedestrian_transit = 'fastest;pedestrian;traffic:enabled'\n",
    "car_transit = \"fastest;car;traffic:enabled\"\n",
    "json_r = []"
   ]
  },
  {
   "cell_type": "code",
   "execution_count": 12,
   "metadata": {
    "collapsed": true
   },
   "outputs": [],
   "source": [
    "for city in city_centers:\n",
    "    url = \"https://isoline.route.cit.api.here.com/routing/7.2/calculateisoline.json?app_id=\"+appid+\"&app_code=\"+appcode+\"&mode=\"+car_transit+\"&rangetype=time&destination=geo!\"+city+\"&range=\"+time_limit+\"&arrival=\"+departure_time\n",
    "    json_r.append(requests.get(url).json()['response']['isoline'][0]['component'][0]['shape'])"
   ]
  },
  {
   "cell_type": "code",
   "execution_count": 13,
   "metadata": {},
   "outputs": [
    {
     "name": "stdout",
     "output_type": "stream",
     "text": [
      "Vancouver\n",
      "Calgary\n",
      "Edmonton\n",
      "Winnipeg\n",
      "Toronto\n",
      "Mississauga\n",
      "Ottawa\n",
      "Montreal\n",
      "Quebec City\n",
      "Halifax\n"
     ]
    }
   ],
   "source": [
    "for idx, val in enumerate(json_r):\n",
    "    print(city_names[idx])\n",
    "    temp_list = []\n",
    "    for coordinates in val:\n",
    "        x = float(coordinates.split(',')[1])\n",
    "        y = float(coordinates.split(',')[0])\n",
    "        temp_list.append([x,y])\n",
    "    \n",
    "    with open('12pm_3600_{}.txt'.format(city_names[idx]), 'w') as output:\n",
    "        output.write(str(temp_list))"
   ]
  },
  {
   "cell_type": "code",
   "execution_count": 20,
   "metadata": {
    "collapsed": true
   },
   "outputs": [],
   "source": [
    "#import zipfiles and rename the polygon files with the zipfile name\n",
    "import os\n",
    "import zipfile\n",
    "\n",
    "source_dir = \"D:/Dropbox/Data/Routes/shapefiles_half_hour/\"  # folder with zip files\n",
    "target_dir = \"D:/Dropbox/Data/Routes/shapefiles_half_hour/extracted/\"  # folder to save the extracted files\n"
   ]
  },
  {
   "cell_type": "code",
   "execution_count": 23,
   "metadata": {},
   "outputs": [],
   "source": [
    "# Unzip files and rename\n",
    "filelist = ['layers/POLYGON.dbf', 'layers/POLYGON.prj', 'layers/POLYGON.shp', 'layers/POLYGON.shx']\n",
    " \n",
    "for item in os.listdir(source_dir):  # loop through items in dir\n",
    "    if item.endswith(\".zip\"):  # check for \".zip\" extension\n",
    "        file_path = os.path.join(source_dir, item)  # get zip file path\n",
    "        with zipfile.ZipFile(file_path) as zf:  # open the zip file\n",
    "            for target_file in filelist:  # loop through the list of files to extract\n",
    "                if target_file in zf.namelist():  # check if the file exists in the archive\n",
    "                    # generate the desired output name:\n",
    "                    target_name = os.path.splitext(file_path)[0].split('/')[-1] + target_file.split('/')[-1]\n",
    "                    target_path = os.path.join(target_dir, target_name)  # output path\n",
    "                    with open(target_path, \"w\") as f:  # open the output path for writing\n",
    "                        f.write(str(zf.read(target_file)))  # save the contents of the file in it\n",
    "                # next file from the list...\n",
    "        # next zip file..."
   ]
  },
  {
   "cell_type": "code",
   "execution_count": 13,
   "metadata": {},
   "outputs": [],
   "source": [
    "# BATCH RENAME\n",
    "\n",
    "import os\n",
    "#path = 'D:/Dropbox/Data/Routes/shapefiles/extracted'\n",
    "files = os.listdir(path)\n",
    "\n",
    "for file in files:\n",
    "    os.rename(os.path.join(path, file), os.path.join(path,(file.split('_')[0]+'_3600_'+file.split('_')[1])))"
   ]
  },
  {
   "cell_type": "code",
   "execution_count": null,
   "metadata": {
    "collapsed": true
   },
   "outputs": [],
   "source": []
  }
 ],
 "metadata": {
  "kernelspec": {
   "display_name": "Python 3",
   "language": "python",
   "name": "python3"
  },
  "language_info": {
   "codemirror_mode": {
    "name": "ipython",
    "version": 3
   },
   "file_extension": ".py",
   "mimetype": "text/x-python",
   "name": "python",
   "nbconvert_exporter": "python",
   "pygments_lexer": "ipython3",
   "version": "3.6.1"
  }
 },
 "nbformat": 4,
 "nbformat_minor": 2
}
