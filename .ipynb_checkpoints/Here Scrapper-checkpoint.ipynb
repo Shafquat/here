{
 "cells": [
  {
   "cell_type": "code",
   "execution_count": 29,
   "metadata": {
    "collapsed": true
   },
   "outputs": [],
   "source": [
    "import requests\n",
    "import json"
   ]
  },
  {
   "cell_type": "code",
   "execution_count": 36,
   "metadata": {
    "collapsed": true
   },
   "outputs": [],
   "source": [
    "time_limit = '3600'\n",
    "departure_time = 'now'\n",
    "city_names = ['Vancouver','Calgary','Edmonton','Winnipeg','Toronto','Mississauga','Ottawa','Montreal','Quebec City','Halifax']\n",
    "city_centers = ['49.284454,-123.121127','51.045737,-114.070382','53.540940,-113.493783','49.895491,-97.138462','43.648649,-79.380261','43.593663,-79.635041','45.419617,-75.702900','45.501880,-73.567427','46.770575,-71.281839','44.649200,-63.574995']\n",
    "pedestrian_transit = 'fastest;pedestrian;traffic:disabled'\n",
    "car_transit = \"fastest;car;traffic:disabled\"\n",
    "json_r = []"
   ]
  },
  {
   "cell_type": "code",
   "execution_count": 37,
   "metadata": {
    "collapsed": false
   },
   "outputs": [],
   "source": [
    "for city in city_centers:\n",
    "    url = \"https://isoline.route.cit.api.here.com/routing/7.2/calculateisoline.json?app_id=\"+appid+\"&app_code=\"+appcode+\"&mode=\"+car_transit+\"&rangetype=time&start=geo!\"+city+\"&range=\"+time_limit+\"&departure=\"+departure_time\n",
    "    json_r.append(requests.get(url).json()['response']['isoline'][0]['component'][0]['shape'])"
   ]
  },
  {
   "cell_type": "code",
   "execution_count": 38,
   "metadata": {
    "collapsed": false
   },
   "outputs": [
    {
     "name": "stdout",
     "output_type": "stream",
     "text": [
      "Vancouver\n",
      "Calgary\n",
      "Edmonton\n",
      "Winnipeg\n",
      "Toronto\n",
      "Mississauga\n",
      "Ottawa\n",
      "Montreal\n",
      "Quebec City\n",
      "Halifax\n"
     ]
    }
   ],
   "source": [
    "for idx, val in enumerate(json_r):\n",
    "    print(city_names[idx])\n",
    "    temp_list = []\n",
    "    for coordinates in val:\n",
    "        x = float(coordinates.split(',')[1])\n",
    "        y = float(coordinates.split(',')[0])\n",
    "        temp_list.append([x,y])\n",
    "    \n",
    "    with open('8am_3600_{}.txt'.format(city_names[idx]), 'w') as output:\n",
    "        output.write(str(temp_list))"
   ]
  },
  {
   "cell_type": "code",
   "execution_count": null,
   "metadata": {
    "collapsed": true
   },
   "outputs": [],
   "source": []
  }
 ],
 "metadata": {
  "kernelspec": {
   "display_name": "Python 3",
   "language": "python",
   "name": "python3"
  },
  "language_info": {
   "codemirror_mode": {
    "name": "ipython",
    "version": 3
   },
   "file_extension": ".py",
   "mimetype": "text/x-python",
   "name": "python",
   "nbconvert_exporter": "python",
   "pygments_lexer": "ipython3",
   "version": "3.6.0"
  }
 },
 "nbformat": 4,
 "nbformat_minor": 2
}
