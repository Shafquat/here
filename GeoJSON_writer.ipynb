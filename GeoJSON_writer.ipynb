{
 "cells": [
  {
   "cell_type": "code",
   "execution_count": 2,
   "metadata": {
    "collapsed": true
   },
   "outputs": [],
   "source": [
    "import os\n",
    "city_names = ['Vancouver','Calgary','Edmonton','Winnipeg','Toronto','Mississauga','Ottawa','Montreal','Quebec City','Halifax']\n",
    "city_centers = ['49.284454,-123.121127','51.045737,-114.070382','53.540940,-113.493783','49.895491,-97.138462','43.648649,-79.380261','43.593663,-79.635041','45.419617,-75.702900','45.501880,-73.567427','46.770575,-71.281839','44.649200,-63.574995']\n",
    "\n",
    "source_dir = \"D:/Dropbox/Data/Routes/\"  # folder with json files\n",
    "target_dir = \"D:/Dropbox/Data/Routes/geojson/\"  # folder to save consolidated geojson files\n",
    "\n",
    "departure_hours = ['5pm','7pm','10pm']\n",
    "arrival_hours = ['7am','9am','12pm']"
   ]
  },
  {
   "cell_type": "code",
   "execution_count": null,
   "metadata": {
    "collapsed": true
   },
   "outputs": [],
   "source": [
    "# Distance given 1 hour\n",
    "# Take in json files for 5pm, 7pm, and 10pm and consolidate them into a geojson file per city\n",
    "\n",
    "for item in os.listdir(source_dir):  # loop through items in dir\n",
    "    if item.endswith(\".txt\"):  # check for \".zip\" extension\n",
    "        file_path = os.path.join(source_dir, item)  # get zip file path\n",
    "        \n",
    "        for time in departure_hours:\n",
    "            if os.path.splitext(file_path)[0].split('/')[-1].split('_')[0] == time:\n",
    "                if os.path.splitext(file_path)[0].split('/')[-1].split('_')[1] == '3600':\n",
    "            # generate the desired output name:\n",
    "            target_name = 'Departure_' + os.path.splitext(file_path)[0].split('/')[-1].split('_')[1] + '_' + os.path.splitext(file_path)[0].split('/')[-1].split('_')[2]\n",
    "            target_path = os.path.join(target_dir, target_name)  # output path\n",
    "            with open(target_path, \"w\") as f:  # open the output path for writing\n",
    "                f.write()  # save the contents of the file in it\n"
   ]
  },
  {
   "cell_type": "code",
   "execution_count": 8,
   "metadata": {},
   "outputs": [
    {
     "data": {
      "text/plain": [
       "'Departure_1800_Calgary'"
      ]
     },
     "execution_count": 8,
     "metadata": {},
     "output_type": "execute_result"
    }
   ],
   "source": [
    "'Departure_' + os.path.splitext(\"D:/Dropbox/Data/Routes/5pm_1800_Calgary.txt\")[0].split('/')[-1].split('_')[1] + '_' + os.path.splitext(\"D:/Dropbox/Data/Routes/5pm_1800_Calgary.txt\")[0].split('/')[-1].split('_')[2]"
   ]
  },
  {
   "cell_type": "code",
   "execution_count": null,
   "metadata": {
    "collapsed": true
   },
   "outputs": [],
   "source": [
    "# Distance given 1 hour\n",
    "# Take in json files for 7am, 9am, and 12pm and consolidate them into a geojson file per city\n"
   ]
  },
  {
   "cell_type": "code",
   "execution_count": null,
   "metadata": {
    "collapsed": true
   },
   "outputs": [],
   "source": [
    "# Distance given half an hour\n",
    "# Take in json files for 5pm, 7pm, and 10pm and consolidate them into a geojson file per city\n",
    "\n"
   ]
  },
  {
   "cell_type": "code",
   "execution_count": null,
   "metadata": {
    "collapsed": true
   },
   "outputs": [],
   "source": [
    "# Distance given half an hour\n",
    "# Take in json files for 5pm, 7pm, and 10pm and consolidate them into a geojson file per city\n",
    "\n"
   ]
  }
 ],
 "metadata": {
  "kernelspec": {
   "display_name": "Python 3",
   "language": "python",
   "name": "python3"
  },
  "language_info": {
   "codemirror_mode": {
    "name": "ipython",
    "version": 3
   },
   "file_extension": ".py",
   "mimetype": "text/x-python",
   "name": "python",
   "nbconvert_exporter": "python",
   "pygments_lexer": "ipython3",
   "version": "3.7.3"
  }
 },
 "nbformat": 4,
 "nbformat_minor": 2
}
