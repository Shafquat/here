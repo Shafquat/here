{
 "cells": [
  {
   "cell_type": "code",
<<<<<<< HEAD
   "execution_count": 1,
=======
   "execution_count": 11,
>>>>>>> 59b0bf93d24e149c6856b49738b74d6900107b21
   "metadata": {
    "collapsed": true
   },
   "outputs": [],
   "source": [
    "import requests\n",
    "import json"
   ]
  },
  {
   "cell_type": "code",
<<<<<<< HEAD
   "execution_count": 11,
=======
   "execution_count": 18,
>>>>>>> 59b0bf93d24e149c6856b49738b74d6900107b21
   "metadata": {
    "collapsed": true
   },
   "outputs": [],
   "source": [
    "time_limit = '3600'\n",
<<<<<<< HEAD
    "departure_time = '2017-09-19T12:00:00-04:00'\n",
=======
    "departure_time = '2017-09-19T22:00:00-04:00'\n",
>>>>>>> 59b0bf93d24e149c6856b49738b74d6900107b21
    "city_names = ['Vancouver','Calgary','Edmonton','Winnipeg','Toronto','Mississauga','Ottawa','Montreal','Quebec City','Halifax']\n",
    "city_centers = ['49.284454,-123.121127','51.045737,-114.070382','53.540940,-113.493783','49.895491,-97.138462','43.648649,-79.380261','43.593663,-79.635041','45.419617,-75.702900','45.501880,-73.567427','46.770575,-71.281839','44.649200,-63.574995']\n",
    "pedestrian_transit = 'fastest;pedestrian;traffic:enabled'\n",
    "car_transit = \"fastest;car;traffic:enabled\"\n",
<<<<<<< HEAD
    "json_r = []\n",
    "appid = \"lI6m3V4mxHGGx0oZgiXa\"\n",
    "appcode = \"8XbgEYV29kplyJLKBQKOkg\""
=======
    "json_r = []"
>>>>>>> 59b0bf93d24e149c6856b49738b74d6900107b21
   ]
  },
  {
   "cell_type": "code",
<<<<<<< HEAD
   "execution_count": 12,
   "metadata": {
    "collapsed": true
=======
   "execution_count": 19,
   "metadata": {
    "collapsed": false
>>>>>>> 59b0bf93d24e149c6856b49738b74d6900107b21
   },
   "outputs": [],
   "source": [
    "for city in city_centers:\n",
<<<<<<< HEAD
    "    url = \"https://isoline.route.cit.api.here.com/routing/7.2/calculateisoline.json?app_id=\"+appid+\"&app_code=\"+appcode+\"&mode=\"+car_transit+\"&rangetype=time&destination=geo!\"+city+\"&range=\"+time_limit+\"&arrival=\"+departure_time\n",
=======
    "    url = \"https://isoline.route.cit.api.here.com/routing/7.2/calculateisoline.json?app_id=\"+appid+\"&app_code=\"+appcode+\"&mode=\"+car_transit+\"&rangetype=time&start=geo!\"+city+\"&range=\"+time_limit+\"&departure=\"+departure_time\n",
>>>>>>> 59b0bf93d24e149c6856b49738b74d6900107b21
    "    json_r.append(requests.get(url).json()['response']['isoline'][0]['component'][0]['shape'])"
   ]
  },
  {
   "cell_type": "code",
<<<<<<< HEAD
   "execution_count": 13,
=======
   "execution_count": 20,
>>>>>>> 59b0bf93d24e149c6856b49738b74d6900107b21
   "metadata": {
    "collapsed": false
   },
   "outputs": [
    {
     "name": "stdout",
     "output_type": "stream",
     "text": [
      "Vancouver\n",
      "Calgary\n",
      "Edmonton\n",
      "Winnipeg\n",
      "Toronto\n",
      "Mississauga\n",
      "Ottawa\n",
      "Montreal\n",
      "Quebec City\n",
      "Halifax\n"
     ]
    }
   ],
   "source": [
    "for idx, val in enumerate(json_r):\n",
    "    print(city_names[idx])\n",
    "    temp_list = []\n",
    "    for coordinates in val:\n",
    "        x = float(coordinates.split(',')[1])\n",
    "        y = float(coordinates.split(',')[0])\n",
    "        temp_list.append([x,y])\n",
    "    \n",
<<<<<<< HEAD
    "    with open('12pm_3600_{}.txt'.format(city_names[idx]), 'w') as output:\n",
=======
    "    with open('10pm_3600_{}.txt'.format(city_names[idx]), 'w') as output:\n",
>>>>>>> 59b0bf93d24e149c6856b49738b74d6900107b21
    "        output.write(str(temp_list))"
   ]
  },
  {
   "cell_type": "code",
   "execution_count": null,
   "metadata": {
    "collapsed": true
   },
   "outputs": [],
<<<<<<< HEAD
   "source": [
    " "
   ]
=======
   "source": []
>>>>>>> 59b0bf93d24e149c6856b49738b74d6900107b21
  }
 ],
 "metadata": {
  "kernelspec": {
<<<<<<< HEAD
   "display_name": "Python 2",
   "language": "python",
   "name": "python2"
=======
   "display_name": "Python 3",
   "language": "python",
   "name": "python3"
>>>>>>> 59b0bf93d24e149c6856b49738b74d6900107b21
  },
  "language_info": {
   "codemirror_mode": {
    "name": "ipython",
<<<<<<< HEAD
    "version": 2
=======
    "version": 3
>>>>>>> 59b0bf93d24e149c6856b49738b74d6900107b21
   },
   "file_extension": ".py",
   "mimetype": "text/x-python",
   "name": "python",
   "nbconvert_exporter": "python",
<<<<<<< HEAD
   "pygments_lexer": "ipython2",
   "version": "2.7.13"
=======
   "pygments_lexer": "ipython3",
   "version": "3.6.0"
>>>>>>> 59b0bf93d24e149c6856b49738b74d6900107b21
  }
 },
 "nbformat": 4,
 "nbformat_minor": 2
}
